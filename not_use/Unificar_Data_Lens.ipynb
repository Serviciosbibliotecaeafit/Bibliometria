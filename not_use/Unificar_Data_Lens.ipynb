{
 "cells": [
  {
   "attachments": {},
   "cell_type": "markdown",
   "id": "p23XLD4JOK3x",
   "metadata": {
    "id": "p23XLD4JOK3x"
   },
   "source": [
    "### Librerias"
   ]
  },
  {
   "cell_type": "code",
   "execution_count": 1,
   "id": "1656cab6",
   "metadata": {
    "id": "1656cab6"
   },
   "outputs": [],
   "source": [
    "import pandas as pd"
   ]
  },
  {
   "attachments": {},
   "cell_type": "markdown",
   "id": "45231c9f",
   "metadata": {},
   "source": [
    "### Paths"
   ]
  },
  {
   "cell_type": "code",
   "execution_count": 11,
   "id": "aec9d60b",
   "metadata": {},
   "outputs": [],
   "source": [
    "outPath = 'output/'\n",
    "filePath = 'LENS/'"
   ]
  },
  {
   "attachments": {},
   "cell_type": "markdown",
   "id": "NaRJyHLKOS9a",
   "metadata": {
    "id": "NaRJyHLKOS9a"
   },
   "source": [
    "### Cargar la data"
   ]
  },
  {
   "cell_type": "code",
   "execution_count": 12,
   "id": "55a88809",
   "metadata": {
    "id": "55a88809"
   },
   "outputs": [],
   "source": [
    "df1 = pd.read_csv(filePath+\"AL_1.csv\", sep=\",\")\n",
    "df2 = pd.read_csv(filePath+\"AL_2.csv\", sep= \",\")\n",
    "df3 = pd.read_csv(filePath+\"AL_3.csv\", sep= \",\")\n",
    "df4 = pd.read_csv(filePath+\"BR_1.csv\", sep=\",\")"
   ]
  },
  {
   "attachments": {},
   "cell_type": "markdown",
   "id": "oobyuDNUOaUy",
   "metadata": {
    "id": "oobyuDNUOaUy"
   },
   "source": [
    "### Dimensiones"
   ]
  },
  {
   "cell_type": "code",
   "execution_count": 13,
   "id": "i5OFW5mnOD6-",
   "metadata": {
    "colab": {
     "base_uri": "https://localhost:8080/"
    },
    "executionInfo": {
     "elapsed": 167,
     "status": "ok",
     "timestamp": 1670970022778,
     "user": {
      "displayName": "Bibliografias EAFIT",
      "userId": "09550631449421748350"
     },
     "user_tz": 300
    },
    "id": "i5OFW5mnOD6-",
    "outputId": "07a78f3d-79d8-4732-c26c-dd821f361e66"
   },
   "outputs": [
    {
     "data": {
      "text/plain": [
       "Index(['Lens ID', 'Title', 'Date Published', 'Publication Year',\n",
       "       'Publication Type', 'Source Title', 'ISSNs', 'Publisher',\n",
       "       'Source Country', 'Author/s', 'Abstract', 'Volume', 'Issue Number',\n",
       "       'Start Page', 'End Page', 'Fields of Study', 'Keywords', 'MeSH Terms',\n",
       "       'Chemicals', 'Funding', 'Source URLs', 'External URL', 'PMID', 'DOI',\n",
       "       'Microsoft Academic ID', 'PMCID', 'Citing Patents Count', 'References',\n",
       "       'Citing Works Count', 'Is Open Access', 'Open Access License',\n",
       "       'Open Access Colour'],\n",
       "      dtype='object')"
      ]
     },
     "execution_count": 13,
     "metadata": {},
     "output_type": "execute_result"
    }
   ],
   "source": [
    "df1.columns"
   ]
  },
  {
   "cell_type": "code",
   "execution_count": 15,
   "id": "da58d039",
   "metadata": {
    "colab": {
     "base_uri": "https://localhost:8080/"
    },
    "executionInfo": {
     "elapsed": 155,
     "status": "ok",
     "timestamp": 1670969973981,
     "user": {
      "displayName": "Bibliografias EAFIT",
      "userId": "09550631449421748350"
     },
     "user_tz": 300
    },
    "id": "da58d039",
    "outputId": "ba7ffa66-73b5-40eb-9a0b-febcfdc040f4"
   },
   "outputs": [
    {
     "name": "stdout",
     "output_type": "stream",
     "text": [
      "(676, 32) (307, 32) (722, 32) (1833, 32)\n"
     ]
    }
   ],
   "source": [
    "print(df1.shape, df2.shape, df3.shape, df4.shape)"
   ]
  },
  {
   "attachments": {},
   "cell_type": "markdown",
   "id": "LrTRm5WTOYob",
   "metadata": {
    "id": "LrTRm5WTOYob"
   },
   "source": [
    "### Organización"
   ]
  },
  {
   "cell_type": "code",
   "execution_count": 8,
   "id": "47a9338a",
   "metadata": {
    "id": "47a9338a"
   },
   "outputs": [],
   "source": [
    "unificado_AL = pd.concat ([df1,df2,df3], axis=0)"
   ]
  },
  {
   "cell_type": "code",
   "execution_count": 9,
   "id": "e76988ad",
   "metadata": {
    "colab": {
     "base_uri": "https://localhost:8080/"
    },
    "executionInfo": {
     "elapsed": 163,
     "status": "ok",
     "timestamp": 1670970006542,
     "user": {
      "displayName": "Bibliografias EAFIT",
      "userId": "09550631449421748350"
     },
     "user_tz": 300
    },
    "id": "e76988ad",
    "outputId": "0aa96924-3d96-4b6f-8055-31680a276561",
    "scrolled": false
   },
   "outputs": [
    {
     "data": {
      "text/plain": [
       "(1705, 32)"
      ]
     },
     "execution_count": 9,
     "metadata": {},
     "output_type": "execute_result"
    }
   ],
   "source": [
    "unificado_AL.shape"
   ]
  },
  {
   "cell_type": "code",
   "execution_count": 10,
   "id": "g5TShG1oOsYf",
   "metadata": {
    "colab": {
     "base_uri": "https://localhost:8080/"
    },
    "executionInfo": {
     "elapsed": 174,
     "status": "ok",
     "timestamp": 1670970267931,
     "user": {
      "displayName": "Bibliografias EAFIT",
      "userId": "09550631449421748350"
     },
     "user_tz": 300
    },
    "id": "g5TShG1oOsYf",
    "outputId": "299c474c-997e-4754-d16b-5ce4cdb95f88"
   },
   "outputs": [
    {
     "data": {
      "text/plain": [
       "(1518, 32)"
      ]
     },
     "execution_count": 10,
     "metadata": {},
     "output_type": "execute_result"
    }
   ],
   "source": [
    "unificado_AL = unificado_AL.drop_duplicates(subset= ['Title', 'DOI'], keep='last')\n",
    "unificado_AL.shape"
   ]
  },
  {
   "attachments": {},
   "cell_type": "markdown",
   "id": "O0Fx4fEQOgFM",
   "metadata": {
    "id": "O0Fx4fEQOgFM"
   },
   "source": [
    "### Exportación"
   ]
  },
  {
   "cell_type": "code",
   "execution_count": 16,
   "id": "4a7714b8",
   "metadata": {},
   "outputs": [],
   "source": [
    "unificado_AL.to_csv(outPath+'LENS_AL.csv')\n",
    "df4.to_csv(outPath+'LENS_BR.csv')"
   ]
  },
  {
   "cell_type": "code",
   "execution_count": null,
   "id": "I623vjrNO9yV",
   "metadata": {
    "id": "I623vjrNO9yV"
   },
   "outputs": [],
   "source": [
    "Exportación = pd.ExcelWriter(\"Data_Lens.xlsx\")\n",
    "unificado_AL.to_excel(Exportación, sheet_name=\"LENS_AL\")  \n",
    "df4.to_excel(Exportación, sheet_name=\"LENS_BR\")\n",
    "Exportación.save()"
   ]
  }
 ],
 "metadata": {
  "colab": {
   "provenance": []
  },
  "kernelspec": {
   "display_name": "Python 3",
   "language": "python",
   "name": "python3"
  },
  "language_info": {
   "codemirror_mode": {
    "name": "ipython",
    "version": 3
   },
   "file_extension": ".py",
   "mimetype": "text/x-python",
   "name": "python",
   "nbconvert_exporter": "python",
   "pygments_lexer": "ipython3",
   "version": "3.10.6"
  },
  "vscode": {
   "interpreter": {
    "hash": "916dbcbb3f70747c44a77c7bcd40155683ae19c65e1c03b4aa3499c5328201f1"
   }
  }
 },
 "nbformat": 4,
 "nbformat_minor": 5
}
