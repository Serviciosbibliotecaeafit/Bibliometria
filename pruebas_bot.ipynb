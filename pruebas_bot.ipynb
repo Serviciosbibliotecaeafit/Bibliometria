{
 "cells": [
  {
   "cell_type": "code",
   "execution_count": 11,
   "metadata": {},
   "outputs": [],
   "source": [
    "from utilities import *\n",
    "\n",
    "doi = '10.22431/25005227.vol49n1.4'\n",
    "data = Obtain_with_doi(doi)"
   ]
  },
  {
   "cell_type": "code",
   "execution_count": 12,
   "metadata": {},
   "outputs": [
    {
     "data": {
      "text/plain": [
       "['@article{Sosa_Chinome_2019',\n",
       " 'doi = {10.22431/25005227.vol49n1.4}',\n",
       " 'url = {https://doi.org/10.22431%2F25005227.vol49n1.4}',\n",
       " 'year = 2019',\n",
       " 'month = {jun}',\n",
       " 'publisher = {Escuela Superior de Administracion Publica}',\n",
       " 'volume = {49}',\n",
       " 'number = {1}',\n",
       " 'pages = {85--99}',\n",
       " \"author = {Jorge Andr{\\\\'{e}}s Sosa Chinome and Nesly Edilma Rey Cruz}\",\n",
       " \"title = {Principios y valores en la Gesti{\\\\'{o}}n y en la Administraci{\\\\'{o}}n P{\\\\'{u}}blica}\",\n",
       " \"journal = {Administraci{\\\\'{o}}n y Desarrollo}\\n}\"]"
      ]
     },
     "execution_count": 12,
     "metadata": {},
     "output_type": "execute_result"
    }
   ],
   "source": [
    "data.split(',\\n\\t')"
   ]
  },
  {
   "cell_type": "code",
   "execution_count": 3,
   "metadata": {},
   "outputs": [
    {
     "ename": "IndexError",
     "evalue": "string index out of range",
     "output_type": "error",
     "traceback": [
      "\u001b[0;31m---------------------------------------------------------------------------\u001b[0m",
      "\u001b[0;31mIndexError\u001b[0m                                Traceback (most recent call last)",
      "Cell \u001b[0;32mIn[3], line 1\u001b[0m\n\u001b[0;32m----> 1\u001b[0m Return_from_response(data)\n",
      "File \u001b[0;32m~/Documents/GitHub/Bibliometria/utilities.py:253\u001b[0m, in \u001b[0;36mReturn_from_response\u001b[0;34m(data)\u001b[0m\n\u001b[1;32m    250\u001b[0m \u001b[39mfor\u001b[39;00m key, value \u001b[39min\u001b[39;00m replacements\u001b[39m.\u001b[39mitems():\n\u001b[1;32m    251\u001b[0m     result \u001b[39m=\u001b[39m result\u001b[39m.\u001b[39mreplace(key, value)\n\u001b[0;32m--> 253\u001b[0m \u001b[39mif\u001b[39;00m (result[\u001b[39m0\u001b[39;49m] \u001b[39m==\u001b[39m \u001b[39m'\u001b[39m\u001b[39m{\u001b[39m\u001b[39m'\u001b[39m \u001b[39mand\u001b[39;00m result[\u001b[39m-\u001b[39m\u001b[39m1\u001b[39m] \u001b[39m==\u001b[39m \u001b[39m'\u001b[39m\u001b[39m}\u001b[39m\u001b[39m'\u001b[39m):\n\u001b[1;32m    254\u001b[0m     result \u001b[39m=\u001b[39m result[\u001b[39m1\u001b[39m:\u001b[39m-\u001b[39m\u001b[39m1\u001b[39m]\n\u001b[1;32m    256\u001b[0m data_dict[\u001b[39mobject\u001b[39m] \u001b[39m=\u001b[39m result\n",
      "\u001b[0;31mIndexError\u001b[0m: string index out of range"
     ]
    }
   ],
   "source": [
    "Return_from_response(data)"
   ]
  },
  {
   "cell_type": "code",
   "execution_count": 7,
   "metadata": {},
   "outputs": [
    {
     "data": {
      "text/plain": [
       "'<!DOCTYPE html>\\n<html lang=\"en-us\">\\n<head>\\n\\n    <meta charset=\"UTF-8\">\\n    <meta name=\"viewport\" content=\"width=device-width, initial-scale=1\">\\n    <meta http-equiv=\"X-UA-Compatible\" content=\"IE=edge\">\\n    <title>Error: DOI Prefix [https:] Not Found</title>\\n\\n\\n\\n    <link href=\"https://cdn.jsdelivr.net/npm/bootstrap@5.0.2/dist/css/bootstrap.min.css\"\\n          rel=\"stylesheet\"\\n          integrity=\"sha384-EVSTQN3/azprG1Anm3QDgpJLIm9Nao0Yz1ztcQTwFspd3yD65VohhpuuCOmLASjC\"\\n          crossorigin=\"anonymous\">\\n    <script\\n            src=\"https://cdn.jsdelivr.net/npm/bootstrap@5.0.2/dist/js/bootstrap.bundle.min.js\"\\n            integrity=\"sha384-MrcW6ZMFYlzcLA8Nl+NtUVF0sA7MsXsP1UyJoMp4YLEuNSfAP+JcXn/tWtIaxVXM\"\\n            crossorigin=\"anonymous\">\\n    </script>\\n\\n    <script src=\"https://kit.fontawesome.com/731b8140c4.js\" crossorigin=\"anonymous\"></script>\\n\\n    <link rel=\"stylesheet\" href=\"/static/css/style.css\" integrity=\"\">\\n\\n    <style>\\n        @import url(\"https://fonts.googleapis.com/css2?family=Roboto+Mono&family=Roboto:wght@100&display=swap\");\\n    </style>\\n\\n    <link rel=\"icon\" sizes=\"48x48\" href=\"/static/images/favicons/favicon.ico\">\\n    <link rel=\"icon\" sizes=\"32x32\" href=\"/static/images/favicons/favicon-32x32.png\">\\n    <link rel=\"icon\" sizes=\"16x16\" href=\"/static/images/favicons/favicon-16x16.png\">\\n    <link rel=\"apple-touch-icon-precomposed\" href=\"/static/images/favicons/apple-touch-icon.png\">\\n    <link rel=\"apple-touch-icon-precomposed\" sizes=\"192x192\" href=\"/static/images/favicons/android-chrome-192x192.png\">\\n    <link rel=\"apple-touch-icon-precomposed\" sizes=\"512x512\" href=\"/static/images/favicons/android-chrome-512x512.png\">\\n\\n</head>\\n<body class=\"generic-page\">\\n<header>\\n    <div class=\"row\">\\n        <div class=\"col logo\">\\n            <a href=\"https://www.doi.org\"><img class=\"header-logo\" src=\"/static/images/logos/header_logo_cropped.svg\" /></a>\\n        </div>\\n        <div class=\"col home-link\">\\n            <div class=\"link-alt\">\\n                <a href=\"https://www.doi.org\">\\n                    <span>VISIT DOI.ORG</span>\\n                    <i class=\"fa-solid fa-arrow-right-long hover-move-right\"></i>\\n                </a>\\n            </div>\\n        </div>\\n    </div>\\n\\n</header>\\n\\n\\n<main aria-role=\"main\">\\n    <header class=\"homepage-header\">\\n    </header>\\n    <div class=\"homepage-content\">\\n\\n        <section class=\"single-top\">\\n            <div class=\"row short\"></div>\\n        </section>\\n\\n        <div class=\"page-content\">\\n            <article>\\n                <div>\\n                    <h2>DOI Prefix [https:] Not Found</h2>\\n\\n                    \\n\\n                    <h3>https://produccioncientificaluz.org/index.php/rcs/article/view/24978</h3>\\n\\n                    \\n                    \\n                    \\n                    <p>This DOI cannot be found in the DOI System.  Possible reasons are:</p>\\n                    \\n\\n                    <ul>\\n                        <li style=\"padding-bottom: .5em;\">The DOI is incorrect in your source. Search for the item by name, title, or other metadata using a search engine.</li>\\n                        <li style=\"padding-bottom: .5em;\">The DOI was copied incorrectly. Check to see that the string includes all the characters before and after the slash and no sentence punctuation marks.</li>\\n                        <li style=\"padding-bottom: .5em;\">The DOI has not been activated yet. Please try again later, and report the problem if the error continues.</li>\\n                    </ul>\\n                    \\n                    \\n                </div>\\n            </article>\\n        </div>\\n\\n        <section class=\"home-infos\">\\n            <div class=\"row\">\\n                <div class=\"col \">\\n                    <h2 class=\"title\">WHAT CAN I DO NEXT?</h2>\\n                    <ul>\\n                        <li>If you believe this DOI is valid, you may <strong>report this error</strong> to the responsible DOI Registration Agency using the form here.</li>\\n                        <li>You can try to search again from <a href=\"https://www.doi.org\">DOI.ORG homepage</a></li>\\n                    </ul>\\n                </div>\\n                <div class=\"col form\">\\n                    <h2 class=\"title\"><img src=\"/static/images/exclamation.svg\">REPORT AN ERROR</h2>\\n                    <form action=\"/notfound\" method=\"post\" enctype=\"application/x-www-form-urlencoded\" name=\"notFoundForm\" onsubmit=\"return submitDoiNotFound(event);\">\\n                        <div class=\"row\">\\n                            <div class=\"col\"><label for=\"missingHandle\">DOI:</label></div>\\n                            <div class=\"col\"><input id=\"missingHandle\" name=\"missingHandle\" value=\"https://produccioncientificaluz.org/index.php/rcs/article/view/24978\" type=\"text\" readonly=\"readonly\"></div>\\n                        </div>\\n                        <div class=\"row\">\\n                            <div class=\"col\"><label for=\"referringPage\">URL of Web Page Listing the DOI:</label></div>\\n                            <div class=\"col\"><input id=\"referringPage\" name=\"referringPage\" type=\"text\" ></div>\\n                        </div>\\n                        <div class=\"row\">\\n                            <div class=\"col\"><label for=\"userEmailAddress\">Your Email Address:</label></div>\\n                            <div class=\"col\"><input id=\"userEmailAddress\" name=\"userEmailAddress\" type=\"text\" /></div>\\n                        </div>\\n                        <div class=\"row\">\\n                            <div class=\"col\"><label for=\"comments\">Additional Information About the Error:</label></div>\\n                            <div class=\"col\"><textarea id=\"comments\" name=\"comments\"></textarea></div>\\n                        </div>\\n                        <div class=\"row\">\\n                            <div class=\"col\"></div>\\n                            <div class=\"col\"><input class=\"submit\" type=\"submit\" value=\"Submit Error Report\"></div>\\n                        </div>\\n                        <div class=\"row\">\\n                            <p id=\"invalidDoi\" style=\"display: none; background:#F5B7B1; border-radius: 5px;\">The DOI entered is not a valid DOI: it should start with 10 followed by a dot, and contain a slash with no preceding whitespace.</p>\\n                            <p id=\"invalidEmail\" style=\"display: none; background:#F5B7B1; border-radius: 5px;\">The email address entered is invalid.</p>\\n                            <p id=\"fallback\" style=\"display: none;\">Please <a href=\"mailto:doi-help@doi.org?subject=DOI%20Not%20Found\">contact us</a> if you wish to report this anyway.</p>\\n                        </div>\\n                    </form>\\n                </div>\\n            </div>\\n\\n        </section>\\n    </div>\\n    \\n    \\n</main>\\n\\n<footer>\\n    <div class=\"row\">\\n        <div class=\"col footer-left\">\\n            <a href=\"https://www.doi.org\"><img class=\"footer-logo\" src=\"/static/images/logos/footer_logo_cropped.svg\" /></a>\\n        </div>\\n        <div class=\"col footer-right\">\\n            <div class=\"row more-info-heading\">\\n                <div class=\"col\">\\n                    <h2>More information on DOI resolution:</h2>\\n                </div>\\n            </div>\\n            <div class=\"row\">\\n                <div class=\"col\">\\n                    <ul>\\n                        <li><a href=\"https://www.doi.org/the-identifier/resources/factsheets/doi-resolution-documentation\">DOI Resolution Factsheet</a></li>\\n                    </ul>\\n                </div>\\n                <div class=\"col\">\\n                    <ul>\\n                        <li><a href=\"https://www.doi.org/the-identifier/resources/handbook\">The DOI Handbook</a></li>\\n                    </ul>\\n                </div>\\n                <div class=\"col\">\\n                    <ul>\\n                        <li><a href=\"https://www.doi.org/privacy-policy/\">Privacy Policy</a></li>\\n                    </ul>\\n                </div>\\n            </div>\\n        </div>\\n\\n    </div>\\n    <div class=\"row\">\\n        <div class=\"col copyright\">\\n            <p>Copyright © 2023 DOI Foundation. <i class=\"fa-brands fa-fw fa-creative-commons\"></i><i class=\"fa-brands fa-fw fa-creative-commons-by\"></i> The content of this site is licensed under a <a href=\"https://creativecommons.org/licenses/by/4.0/\" title=\"Creative Commons\" target=\"_blank\">Creative Commons Attribution 4.0 International License</a>.</p><p>DOI&reg;, DOI.ORG&reg;, and shortDOI&reg; are trademarks of the DOI Foundation.</p>\\n        </div>\\n        <div class=\"col socials\">\\n            <ul class=\"socials-footer\">\\n\\n                <li><a href=\"https://twitter.com/DOI_Foundation\"><i class=\"fa-brands fa-fw fa-twitter\"></i></a></li>\\n\\n                <li><a href=\"https://www.linkedin.com/company/doi-foundation-inc/\"><i class=\"fa-brands fa-fw fa-linkedin\"></i></a></li>\\n\\n                <li><a href=\"mailto:info@doi.org\"><i class=\"fa-solid fa-fw fa-envelope\"></i></a></li>\\n\\n            </ul>\\n        </div>\\n    </div>\\n</footer>\\n\\n<script type=\"text/javascript\">\\n    function submitDoiNotFound(event) {\\n        try {\\n            document.getElementById(\"invalidEmail\").style.display = \"none\";\\n            document.getElementById(\"invalidDoi\").style.display = \"none\";\\n            document.getElementById(\"fallback\").style.display = \"none\";\\n\\n            const missingHandle = document.getElementById(\\'missingHandle\\').value.trim();\\n            const userEmailAddress = document.getElementById(\\'userEmailAddress\\').value.trim();\\n\\n            if (!validateDoi(missingHandle)) {\\n                event.preventDefault();\\n                document.getElementById(\"invalidDoi\").style.display = \"block\";\\n                document.getElementById(\"fallback\").style.display = \"block\";\\n                return false;\\n            }\\n            if (!validateEmail(userEmailAddress)) {\\n                event.preventDefault();\\n                document.getElementById(\"invalidEmail\").style.display = \"block\";\\n                return false;\\n            }\\n        } catch (error) {\\n            // ignore\\n        }\\n    }\\n\\n    function validateEmail(email) {\\n        const regEx = /^[^\\\\s@]+@[^\\\\s@]+\\\\.[^\\\\s@]+$/;\\n        return regEx.test(email);\\n    }\\n\\n    function validateDoi(doi) {\\n        const regEx = /^10(?:\\\\.[^\\\\s\\\\/]+)?\\\\//;\\n        return regEx.test(doi);\\n    }\\n</script>\\n\\n</body>\\n</html>\\n'"
      ]
     },
     "execution_count": 7,
     "metadata": {},
     "output_type": "execute_result"
    }
   ],
   "source": [
    "Obtain_with_doi('https://produccioncientificaluz.org/index.php/rcs/article/view/24978')"
   ]
  },
  {
   "cell_type": "code",
   "execution_count": 22,
   "metadata": {},
   "outputs": [
    {
     "data": {
      "text/plain": [
       "'10.5935/1809-8487.20190006'"
      ]
     },
     "execution_count": 22,
     "metadata": {},
     "output_type": "execute_result"
    }
   ],
   "source": [
    "Return_from_response(Obtain_with_doi(doi), '')"
   ]
  },
  {
   "cell_type": "code",
   "execution_count": 44,
   "metadata": {},
   "outputs": [
    {
     "name": "stdout",
     "output_type": "stream",
     "text": [
      "{10.22431/25005227.vol49n1.4}\n",
      "{https://doi.org/10.22431%2F25005227.vol49n1.4}\n",
      "2019\n",
      "{jun}\n",
      "{Escuela Superior de Administracion Publica}\n",
      "{49}\n",
      "{1}\n",
      "{85--99}\n",
      "{Jorge Andrés Sosa Chinome and Nesly Edilma Rey Cruz}\n",
      "{Principios y valores en la Gestión y en la Administración Pública}\n",
      "{Administración y Desarrollo}}\n"
     ]
    }
   ],
   "source": [
    "data_dict = {\n",
    "}\n",
    "for text in data.split(',\\n\\t'):\n",
    "    if text[0] == '@':\n",
    "        data_dict['type'] = text[1:text.find('{')]\n",
    "        continue\n",
    "\n",
    "    object = text[0:text.find(' = ')]\n",
    "    input = object + ' = '\n",
    "    start = text.find(input) + len(input)\n",
    "    result = text[start:]\n",
    "\n",
    "    replacements = {\n",
    "        \"{\\\\'{a}}\" : \"á\",\n",
    "        \"{\\\\'{e}}\" : \"é\",\n",
    "        \"{\\\\'{i}}\" : \"í\",\n",
    "        \"{\\\\'{o}}\" : \"ó\",\n",
    "        \"{\\\\'{u}}\" : \"ú\",\n",
    "        \"\\n\"       : \"\",\n",
    "        \"\\t\"       : \"\",\n",
    "    }\n",
    "    \n",
    "    for key, value in replacements.items():\n",
    "        result = result.replace(key, value)\n",
    "\n",
    "    print(result)\n",
    "    if (result[0] == '{' and result[-1] == '}'):\n",
    "        result = result[1:-1]\n",
    "    \n",
    "    data_dict[object] = result"
   ]
  },
  {
   "cell_type": "code",
   "execution_count": 10,
   "metadata": {},
   "outputs": [
    {
     "data": {
      "text/plain": [
       "{'type': 'article',\n",
       " 'doi': '{10.5935/1809-8487.20190006',\n",
       " 'url': '{https://doi.org/10.5935%2F1809-8487.20190006',\n",
       " 'year': '201',\n",
       " 'publisher': '{{GN}1 Genesis Network',\n",
       " 'volume': '{18',\n",
       " 'number': '{32',\n",
       " 'author': '{RITA DE CASSIA BATISTA SILVA',\n",
       " 'title': \"O {SISTEMA} {PENITENCI}{\\\\'{A}}{RIO} {FEDERAL} {COMO} {PARADIGMA} {EM} {EXCEL}{\\\\^{E}}{NCIA} {DE} {QUALIDADE}            {INSTITUCIONAL\",\n",
       " 'journal': \"De Jure - Revista Jur{\\\\'{\\\\i}}dica do Ministério Público do Estado de Minas Gerais\"}"
      ]
     },
     "execution_count": 10,
     "metadata": {},
     "output_type": "execute_result"
    }
   ],
   "source": [
    "data_dict"
   ]
  },
  {
   "cell_type": "code",
   "execution_count": 19,
   "metadata": {},
   "outputs": [
    {
     "name": "stdout",
     "output_type": "stream",
     "text": [
      "type\n",
      "article\n",
      "doi\n",
      "10.22431/25005227.vol49n1.4\n",
      "url\n",
      "https://doi.org/10.22431%2F25005227.vol49n1.4\n",
      "year\n",
      "2019\n",
      "month\n",
      "jun\n",
      "publisher\n",
      "Escuela Superior de Administracion Publica\n",
      "volume\n",
      "49\n",
      "number\n",
      "1\n",
      "pages\n",
      "85--99\n",
      "author\n",
      "Jorge Andrés Sosa Chinome and Nesly Edilma Rey Cruz\n",
      "title\n",
      "Principios y valores en la Gestión y en la Administración Pública\n",
      "journal\n",
      "Administración y Desarrollo\n"
     ]
    }
   ],
   "source": [
    "for key, value in data_dict.items():\n",
    "    print(key)\n",
    "    print(value)"
   ]
  },
  {
   "cell_type": "code",
   "execution_count": 17,
   "metadata": {},
   "outputs": [],
   "source": [
    "dic = {}\n",
    "try:\n",
    "    dic['type'].append('1')\n",
    "except KeyError:\n",
    "    dic['type'] = ['1']"
   ]
  },
  {
   "cell_type": "code",
   "execution_count": null,
   "metadata": {},
   "outputs": [],
   "source": []
  }
 ],
 "metadata": {
  "kernelspec": {
   "display_name": "jupyter_notebook",
   "language": "python",
   "name": "python3"
  },
  "language_info": {
   "codemirror_mode": {
    "name": "ipython",
    "version": 3
   },
   "file_extension": ".py",
   "mimetype": "text/x-python",
   "name": "python",
   "nbconvert_exporter": "python",
   "pygments_lexer": "ipython3",
   "version": "3.10.6"
  },
  "orig_nbformat": 4
 },
 "nbformat": 4,
 "nbformat_minor": 2
}
